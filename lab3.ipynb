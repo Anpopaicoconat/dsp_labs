{
  "nbformat": 4,
  "nbformat_minor": 0,
  "metadata": {
    "kernelspec": {
      "display_name": "Python 3",
      "language": "python",
      "name": "python3"
    },
    "language_info": {
      "codemirror_mode": {
        "name": "ipython",
        "version": 3
      },
      "file_extension": ".py",
      "mimetype": "text/x-python",
      "name": "python",
      "nbconvert_exporter": "python",
      "pygments_lexer": "ipython3",
      "version": "3.8.3"
    },
    "colab": {
      "name": "lab3.ipynb",
      "provenance": [],
      "include_colab_link": true
    }
  },
  "cells": [
    {
      "cell_type": "markdown",
      "metadata": {
        "id": "view-in-github",
        "colab_type": "text"
      },
      "source": [
        "<a href=\"https://colab.research.google.com/github/Anpopaicoconat/dsp_labs/blob/main/lab3.ipynb\" target=\"_parent\"><img src=\"https://colab.research.google.com/assets/colab-badge.svg\" alt=\"Open In Colab\"/></a>"
      ]
    },
    {
      "cell_type": "markdown",
      "metadata": {
        "id": "38g7ypBSrRb3"
      },
      "source": [
        "# <center> Практические задания по цифровой обработке сигналов </center>\n",
        "# <center> Третья лабораторная работа </center>\n",
        "# <center> Фильтры </center>\n",
        "В данной работе вы познакомитесь с понятием фильтра в цифровой обработке сигналов."
      ]
    },
    {
      "cell_type": "code",
      "metadata": {
        "id": "zf3UiG02rRcC"
      },
      "source": [
        "import numpy as np\n",
        "import matplotlib.pyplot as plt\n",
        "import scipy\n",
        "import scipy.fft\n",
        "import librosa\n",
        "import IPython.display as ipd\n",
        "import librosa.display\n",
        "\n",
        "# Запретим numpy выполнять деление на 0\n",
        "np.seterr(divide='raise', invalid='raise')\n",
        "%matplotlib inline"
      ],
      "execution_count": null,
      "outputs": []
    },
    {
      "cell_type": "code",
      "metadata": {
        "id": "htps3CcjrRcF"
      },
      "source": [
        "# from Lab2\n",
        "def get_magnitude_from_spec(spec):\n",
        "    return np.abs(spec)\n",
        "    #\n",
        "    raise NotImplementedError()\n",
        "\n",
        "\n",
        "def get_phi_from_spec(spec):\n",
        "    return np.angle(spec)\n",
        "    #\n",
        "    raise NotImplementedError()\n",
        "\n",
        "\n",
        "# Функция отрисовки аудио сигнала. \n",
        "def draw_waveform(wav, sr, figsize=(14, 5)):\n",
        "    # Отрисовка звукового сигнала во временной области\n",
        "    plt.figure(figsize=figsize)\n",
        "    librosa.display.waveplot(wav, sr=sr)\n",
        "    plt.show()\n",
        "\n",
        "# Функция отрисовки спектра\n",
        "def draw_spec(spec, name=None, draw_A=True, draw_p=True, figsize=(14, 3)):\n",
        "    if len(spec)<100:\n",
        "        # Рисуем точки как \"леденцы на палочках\"\n",
        "        draw_func = plt.stem\n",
        "    else:\n",
        "        # При большом N \"леденцы\" выглядят плохо, \n",
        "        # Поэтому будем рисовать огибающую функцию\n",
        "        draw_func = plt.plot\n",
        "    \n",
        "    if draw_A:\n",
        "        plt.figure(figsize=figsize)\n",
        "        plt.title(\"Magnitude spectrum\")\n",
        "        spec_A = get_magnitude_from_spec(spec)\n",
        "        draw_func(spec_A)\n",
        "        plt.ylabel(\"Magnitude\")\n",
        "        plt.xlabel(\"n\")\n",
        "        if name is not None:\n",
        "            plt.legend([name])\n",
        "        plt.show()\n",
        "        \n",
        "    if draw_p:\n",
        "        plt.figure(figsize=figsize)\n",
        "        plt.title(\"Phase spectrum\")\n",
        "        phi = get_phi_from_spec(spec)\n",
        "        draw_func(phi)\n",
        "        plt.ylabel(\"Radian\")\n",
        "        plt.xlabel(\"n\")\n",
        "        if name is not None:\n",
        "            plt.legend([name])\n",
        "        plt.show()\n",
        "    return \n"
      ],
      "execution_count": null,
      "outputs": []
    },
    {
      "cell_type": "markdown",
      "metadata": {
        "id": "HnZYmME6rRcH"
      },
      "source": [
        "----------------------------------------------\n",
        "## Теория\n",
        "Цифровой фильтр \\([wiki](https://ru.wikipedia.org/wiki/Цифровой_фильтр)\\) —  любой фильтр, обрабатывающий цифровой сигнал с целью выделения и/или подавления определённых частот этого сигнала.\n",
        "Цифровые фильтры применяются практическе везде, где требуется обработка цифровых сигналов (при работе со звуком, картинками, видео и т.д.)\n",
        "\n",
        "Основными характеристиками стационарных линейных дискретных фильтров являются:\n",
        "\n",
        "* Импульсная характеристика \n",
        "* Переходная характеристика\n",
        "* Амплитудно-частотная характеристика\n",
        "* Фазо-частотная характеристика\n",
        "\n",
        "**Импульсной характеристикой фильтра** называется его реакция на единичный импульс при нулевых начальных условиях. \n",
        "\n",
        "**Переходной характеристикой фильтра** называется его реакция на воздействие в форме единичной функции. \n",
        "\n",
        "**Амплитудно-частотной характеристикой фильтра (АЧХ)** называется зависимость амплитуды установившихся колебаний выходного сигнала от частоты её входного гармонического сигнала. Другими словами, АЧХ показывает, как влияет фильтр на амплитуду разных частот входного сигнала. \n",
        "\n",
        "**Фазо-частотной характеристикой фильтра (ФЧХ)** называется зависимость фазы установившихся колебаний выходного сигнала от частоты её входного гармонического сигнала. Аналогична АЧХ, только показывает влияние на фазу сигнала.\n",
        "\n",
        "В данной работе мы будем рассматривать два линейных инвариантных к сдвигу фильтра: фильтр с конечной импульсной характеристикой (КИХ-фильтр) и фильтр с бесконечной импульсной характеристикой (БИХ-фильтр).\n",
        "### КИХ-фильтры\n",
        "Определение с [вики](https://ru.wikipedia.org/wiki/%D0%A4%D0%B8%D0%BB%D1%8C%D1%82%D1%80_%D1%81_%D0%BA%D0%BE%D0%BD%D0%B5%D1%87%D0%BD%D0%BE%D0%B9_%D0%B8%D0%BC%D0%BF%D1%83%D0%BB%D1%8C%D1%81%D0%BD%D0%BE%D0%B9_%D1%85%D0%B0%D1%80%D0%B0%D0%BA%D1%82%D0%B5%D1%80%D0%B8%D1%81%D1%82%D0%B8%D0%BA%D0%BE%D0%B9) :\n",
        "> Фильтр с конечной импульсной характеристикой (Нерекурсивный фильтр, КИХ-фильтр) или FIR-фильтр (FIR сокр. от finite impulse response — конечная импульсная характеристика) — один из видов линейных цифровых фильтров, характерной особенностью которого является ограниченность по времени его импульсной характеристики (с какого-то момента времени она становится точно равной нулю). Такой фильтр называют ещё нерекурсивным из-за отсутствия обратной связи. Знаменатель передаточной функции такого фильтра — константа.\n",
        "\n",
        "![resources/fir.png](resources/fir.png)\n",
        "\n",
        "\n",
        "### БИХ-фильтры\n",
        "Определение с [вики](https://ru.wikipedia.org/wiki/%D0%A4%D0%B8%D0%BB%D1%8C%D1%82%D1%80_%D1%81_%D0%B1%D0%B5%D1%81%D0%BA%D0%BE%D0%BD%D0%B5%D1%87%D0%BD%D0%BE%D0%B9_%D0%B8%D0%BC%D0%BF%D1%83%D0%BB%D1%8C%D1%81%D0%BD%D0%BE%D0%B9_%D1%85%D0%B0%D1%80%D0%B0%D0%BA%D1%82%D0%B5%D1%80%D0%B8%D1%81%D1%82%D0%B8%D0%BA%D0%BE%D0%B9) :\n",
        "> Фильтр с бесконечной импульсной характеристикой (Рекурсивный фильтр, БИХ-фильтр) или IIR-фильтр (IIR сокр. от infinite impulse response — бесконечная импульсная характеристика) — линейный электронный фильтр, использующий один или более своих выходов в качестве входа, то есть образующий обратную связь. Основным свойством таких фильтров является то, что их импульсная переходная характеристика имеет бесконечную длину во временной области, а передаточная функция имеет дробно-рациональный вид. Такие фильтры могут быть как аналоговыми, так и цифровыми.\n",
        "\n",
        "![resources/iir.png](resources/iir.png)\n",
        "\n",
        "----------------------------"
      ]
    },
    {
      "cell_type": "markdown",
      "metadata": {
        "id": "kOGm74v2rRcJ"
      },
      "source": [
        "# Задание 1 (2 балла)\n",
        "Реализуйте КИХ-фильтр и БИХ-фильтр"
      ]
    },
    {
      "cell_type": "code",
      "metadata": {
        "id": "Y-0bW_LWrRcK"
      },
      "source": [
        "# Определяем фильтры\n",
        "def FIR_filter(x, alpha_prev=0.5, alpha_curr=0.5):\n",
        "    # alpha_prev - weight for previous frame\n",
        "    # alpha_curr - weight for current frame\n",
        "    prev = 0\n",
        "    out = []\n",
        "    for i in range(len(x)):\n",
        "        outn = prev*alpha_prev + x[i]*alpha_curr\n",
        "        out.append(outn)\n",
        "        prev = x[i]\n",
        "    return np.array(out)\n",
        "\n",
        "def IIR_filter(x, alpha=0.5):\n",
        "    # alpha - weight for reccurent connection\n",
        "    prev = 0\n",
        "    out = []\n",
        "    for i in range(len(x)):\n",
        "        outn = prev*alpha + x[i]\n",
        "        out.append(outn)\n",
        "        prev =  outn\n",
        "    return np.array(out)"
      ],
      "execution_count": null,
      "outputs": []
    },
    {
      "cell_type": "code",
      "metadata": {
        "id": "BpYBgY88rRcL",
        "colab": {
          "base_uri": "https://localhost:8080/"
        },
        "outputId": "6aac3a38-59e0-48d2-a028-a05e0a7323b0"
      },
      "source": [
        "def test_filters():\n",
        "    x = np.ones(10)\n",
        "    y = FIR_filter(x)\n",
        "    assert y[0] == 0.5 and (y[1:] == 1).all(), \\\n",
        "        RuntimeError(f\"bad FIR. x={x}. y={y}\")\n",
        "    y = FIR_filter(x, alpha_prev=0.1, alpha_curr=0.9)\n",
        "    assert y[0] == 0.9 and (y[1:] == 1).all(), \\\n",
        "        RuntimeError(f\"bad FIR(alphas 0.1 and 0.9). x={x}. y={y}\")\n",
        "    y = IIR_filter(x)\n",
        "    assert y[0]==1 and (y[3:].round() == 2).all() and (y<2).all(), \\\n",
        "        RuntimeError(f\"Bad IIR. x={x}. y={y}\")\n",
        "    y = IIR_filter(x, 0.2)\n",
        "    assert y[0]==1 and (y[3:].round(2) ==1.25).all() and (y<1.25).all(), \\\n",
        "        RuntimeError(f\"Bad IIR(alpha={0.2}. x={x}. y={y}\")\n",
        "    print(\"All Ok!\")\n",
        "\n",
        "test_filters()"
      ],
      "execution_count": null,
      "outputs": [
        {
          "output_type": "stream",
          "name": "stdout",
          "text": [
            "All Ok!\n"
          ]
        }
      ]
    },
    {
      "cell_type": "markdown",
      "metadata": {
        "id": "YydRf4fPrRcM"
      },
      "source": [
        "# Импульсная и переходная характеристики\n",
        "# Задание 2 (1 балл)\n",
        "Определите единичный импульс длиной 20 отсчетов (переменная impulse). <br>\n",
        "Получите импульсную характеристику фильтров."
      ]
    },
    {
      "cell_type": "code",
      "metadata": {
        "id": "9lcu2zISrRcN",
        "colab": {
          "base_uri": "https://localhost:8080/",
          "height": 345
        },
        "outputId": "630c2563-f40c-4330-d872-620a3029aa0e"
      },
      "source": [
        "print(\"Импульсная характеристика фильтров с aplha=0.5:\")\n",
        "\n",
        "# Получите импульсную характеристику FIR_filter и IIR_filter\n",
        "# YOUR CODE HERE\n",
        "#\n",
        "impulse = np.zeros(20)\n",
        "impulse[0] = 1\n",
        "fir_impulse_response = FIR_filter(impulse)\n",
        "iir_impulse_response = IIR_filter(impulse)\n",
        "#\n",
        "\n",
        "plt.figure(figsize=(8,2))\n",
        "plt.title(\"КИХ-фильтр:\")\n",
        "plt.plot(impulse, 'o-')\n",
        "plt.plot(fir_impulse_response, '.-')\n",
        "plt.legend(['импульс', 'фильтр'])\n",
        "plt.axis([-0.1, len(impulse), -0.1, 1.2])\n",
        "plt.show()\n",
        "\n",
        "plt.figure(figsize=(8,2))\n",
        "plt.title(\"БИХ-фильтр:\")\n",
        "plt.plot(impulse, 'o-')\n",
        "plt.plot(iir_impulse_response, '.-')\n",
        "plt.legend(['импульс', 'фильтр'])\n",
        "plt.axis([-0.1, len(impulse), -0.1, 1.2])\n",
        "plt.show()"
      ],
      "execution_count": null,
      "outputs": [
        {
          "output_type": "stream",
          "name": "stdout",
          "text": [
            "Импульсная характеристика фильтров с aplha=0.5:\n"
          ]
        },
        {
          "output_type": "display_data",
          "data": {
            "image/png": "[encoded data removed]",
            "text/plain": [
              "<Figure size 576x144 with 1 Axes>"
            ]
          },
          "metadata": {
            "needs_background": "light"
          }
        },
        {
          "output_type": "display_data",
          "data": {
            "image/png": "[encoded data removed]",
            "text/plain": [
              "<Figure size 576x144 with 1 Axes>"
            ]
          },
          "metadata": {
            "needs_background": "light"
          }
        }
      ]
    },
    {
      "cell_type": "code",
      "metadata": {
        "id": "j-KINYGjrRcO",
        "colab": {
          "base_uri": "https://localhost:8080/"
        },
        "outputId": "1d08c2d3-aece-4ec5-aa4b-bb571ec1d50d"
      },
      "source": [
        "assert impulse.shape[0] == 20, \"Bad impulse shape\"\n",
        "assert (fir_impulse_response[0:2] == 0.5).all() and \\\n",
        "        (fir_impulse_response[2:] == 0).all(), \"Bad FIR.\"\n",
        "assert iir_impulse_response.sum().round() == 2 and \\\n",
        "        iir_impulse_response.sum() < 2 and \\\n",
        "        (iir_impulse_response != 0).all(), \"Bad IIR.\"\n",
        "assert iir_impulse_response[1:].sum().round() == 1 and \\\n",
        "        iir_impulse_response[1:].sum()<1 and \\\n",
        "        iir_impulse_response[2:].sum() < 0.5, \"Bad IIR.\"\n",
        "print(\"All ok!\")"
      ],
      "execution_count": null,
      "outputs": [
        {
          "output_type": "stream",
          "name": "stdout",
          "text": [
            "All ok!\n"
          ]
        }
      ]
    },
    {
      "cell_type": "markdown",
      "metadata": {
        "id": "OMp8cwo-rRcO"
      },
      "source": [
        "# Задание 3 (1 балл)\n",
        "Определите единичный скачок длиной 20 отсчетов (переменная step). <br>\n",
        "Получите переходную характеристику фильтров."
      ]
    },
    {
      "cell_type": "code",
      "metadata": {
        "id": "1y4WlolOrRcP",
        "colab": {
          "base_uri": "https://localhost:8080/",
          "height": 345
        },
        "outputId": "90ae69ae-4b12-40b5-a81b-105e31d2ef55"
      },
      "source": [
        "print(\"Переходная характеристика фильтров с alpha=0.5:\")\n",
        "# Получите переходную характеристику фильтров\n",
        "# YOUR CODE HERE\n",
        "#\n",
        "step = np.ones(20)\n",
        "fir_step_response = FIR_filter(step)\n",
        "iir_step_response = IIR_filter(step)\n",
        "#\n",
        "\n",
        "plt.figure(figsize=(8,2))\n",
        "plt.title(\"КИХ-фильтр:\")\n",
        "plt.plot(step, 'o-')\n",
        "plt.plot(fir_step_response, '.-')\n",
        "plt.axis([-0.1, len(step), 0, 1.2])\n",
        "plt.legend(['скачок', 'фильтр'])\n",
        "\n",
        "plt.show()\n",
        "\n",
        "plt.figure(figsize=(8,2))\n",
        "plt.title(\"БИХ-фильтр:\")\n",
        "plt.plot(step, 'o-')\n",
        "plt.plot(iir_step_response, '.-')\n",
        "plt.axis([-0.1, len(step), 0, 2.2])\n",
        "plt.legend(['скачок', 'фильтр'])\n",
        "plt.show()"
      ],
      "execution_count": null,
      "outputs": [
        {
          "output_type": "stream",
          "name": "stdout",
          "text": [
            "Переходная характеристика фильтров с alpha=0.5:\n"
          ]
        },
        {
          "output_type": "display_data",
          "data": {
            "image/png": "[encoded data removed]",
            "text/plain": [
              "<Figure size 576x144 with 1 Axes>"
            ]
          },
          "metadata": {
            "needs_background": "light"
          }
        },
        {
          "output_type": "display_data",
          "data": {
            "image/png": "[encoded data removed]",
            "text/plain": [
              "<Figure size 576x144 with 1 Axes>"
            ]
          },
          "metadata": {
            "needs_background": "light"
          }
        }
      ]
    },
    {
      "cell_type": "code",
      "metadata": {
        "id": "tuYSq8iXrRcQ",
        "colab": {
          "base_uri": "https://localhost:8080/"
        },
        "outputId": "799f4dc4-1ec3-4ff5-daf8-3e64726609a1"
      },
      "source": [
        "assert step.shape[0] == 20, \"Bad step shape\"\n",
        "assert fir_step_response[0] == 0.5 and \\\n",
        "        (fir_step_response[1:] == 1).all(), \"Bad FIR.\"\n",
        "assert iir_step_response[0] == 1 and iir_step_response[1] == 1.5 and iir_step_response[2] == 1.75 and \\\n",
        "        iir_step_response.mean().round() == 2 and (iir_step_response < 2).all(), \"Bad IIR.\"\n",
        "print(\"All ok!\")"
      ],
      "execution_count": null,
      "outputs": [
        {
          "output_type": "stream",
          "name": "stdout",
          "text": [
            "All ok!\n"
          ]
        }
      ]
    },
    {
      "cell_type": "markdown",
      "metadata": {
        "id": "fHTEKU16rRcQ"
      },
      "source": [
        "# Амплитудно-частотная и фазо-частотная характеристики\n",
        "# Задание 4 (1 балл)\n",
        "Получите амплитудно-частотную характеристику фильтров."
      ]
    },
    {
      "cell_type": "code",
      "metadata": {
        "id": "u9x3cabxrRcR",
        "colab": {
          "base_uri": "https://localhost:8080/",
          "height": 345
        },
        "outputId": "e1209e2b-e5a1-47dc-bc94-f64c6454a560"
      },
      "source": [
        "print(\"Амплитудно-частотная характеристика фильтров с alpha=0.5\")\n",
        "\n",
        "# Получить амплитудно-частотную характеристику\n",
        "# YOUR CODE HERE\n",
        "#\n",
        "ar = np.arange(10)*0.05*2*np.pi\n",
        "\n",
        "fir_frequency_response = np.abs((1 + np.exp(-1j*ar))/2)\n",
        "iir_frequency_response = np.abs(1/(1 -0.5*np.exp(-1j*ar)))\n",
        "\n",
        "plt.figure(figsize=(6,2))\n",
        "plt.title(\"КИХ-фильтр:\")\n",
        "plt.plot(sinus, '.-')\n",
        "plt.plot(fir_frequency_response, '.-')\n",
        "plt.show()\n",
        "\n",
        "\n",
        "plt.figure(figsize=(6,2))\n",
        "plt.title(\"БИХ-фильтр:\")\n",
        "plt.plot(sinus, '.-')\n",
        "plt.plot(iir_frequency_response, '.-')\n",
        "plt.show()"
      ],
      "execution_count": null,
      "outputs": [
        {
          "output_type": "stream",
          "name": "stdout",
          "text": [
            "Амплитудно-частотная характеристика фильтров с alpha=0.5\n"
          ]
        },
        {
          "output_type": "display_data",
          "data": {
            "image/png": "[encoded data removed]",
            "text/plain": [
              "<Figure size 432x144 with 1 Axes>"
            ]
          },
          "metadata": {
            "needs_background": "light"
          }
        },
        {
          "output_type": "display_data",
          "data": {
            "image/png": "[encoded data removed]",
            "text/plain": [
              "<Figure size 432x144 with 1 Axes>"
            ]
          },
          "metadata": {
            "needs_background": "light"
          }
        }
      ]
    },
    {
      "cell_type": "code",
      "metadata": {
        "id": "vTxeAOY8rRcR",
        "colab": {
          "base_uri": "https://localhost:8080/"
        },
        "outputId": "dc90c019-cf03-42dc-9e0e-f56f619b2b89"
      },
      "source": [
        "assert fir_frequency_response.shape[0] == iir_frequency_response.shape[0] == 10, \\\n",
        "    f\"Bad FR shape. Must be N//2.\"\n",
        "_ideal_fir_fr = np.array([1. , 0.98768834, 0.95105652, 0.89100652, 0.80901699,\n",
        "       0.70710678, 0.58778525, 0.4539905 , 0.30901699, 0.15643447])\n",
        "assert np.allclose(fir_frequency_response, _ideal_fir_fr), \\\n",
        "    f\"Bad fir FR. diff is {np.abs(fir_frequency_response - _ideal_fir_fr).sum()}\"\n",
        "_ideal_iir_fr = np.array([1.99999809, 1.82896351, 1.50587408, 1.22885364, 1.03088138,\n",
        "       0.89442634, 0.80089238, 0.73765316, 0.69689865, 0.67403739])\n",
        "assert np.allclose(iir_frequency_response, _ideal_iir_fr), \\\n",
        "    f\"Bad iir FR. diff is {np.abs(iir_frequency_response - _ideal_iir_fr).sum()}\"\n",
        "\n",
        "print(\"All ok!\")"
      ],
      "execution_count": null,
      "outputs": [
        {
          "output_type": "stream",
          "name": "stdout",
          "text": [
            "All ok!\n"
          ]
        }
      ]
    },
    {
      "cell_type": "markdown",
      "metadata": {
        "id": "qcwzAwmNrRcS"
      },
      "source": [
        "# Задание 5 (1 балл)\n",
        "Получите фазово-частотную характеристику фильтров."
      ]
    },
    {
      "cell_type": "code",
      "metadata": {
        "id": "wCLn8K7wrRcS",
        "colab": {
          "base_uri": "https://localhost:8080/",
          "height": 345
        },
        "outputId": "17e7b7d9-8fe6-4a38-a55b-df434459eaa6"
      },
      "source": [
        "print(\"Фазово-частотная характеристика\")\n",
        "\n",
        "# Получить фазово-частотную характеристику\n",
        "# YOUR CODE HERE\n",
        "ar = np.arange(10)*0.05*2*np.pi\n",
        "\n",
        "ar = np.arange(10)*0.05*2*np.pi\n",
        "fir = (1 + np.exp(-1j*ar))/2\n",
        "ir = 1/(1 -0.5*np.exp(-1j*ar))\n",
        "\n",
        "fir_phase_response = np.angle(fir)\n",
        "iir_phase_response = np.angle(ir)\n",
        "#\n",
        "\n",
        "\n",
        "plt.figure(figsize=(6,2))\n",
        "plt.title(\"КИХ-фильтр:\")\n",
        "plt.plot(fir_phase_response, '.-')\n",
        "plt.show()\n",
        "\n",
        "plt.figure(figsize=(6,2))\n",
        "plt.title(\"БИХ-фильтр:\")\n",
        "plt.plot(iir_phase_response, '.-')\n",
        "\n",
        "plt.show()"
      ],
      "execution_count": null,
      "outputs": [
        {
          "output_type": "stream",
          "name": "stdout",
          "text": [
            "Фазово-частотная характеристика\n"
          ]
        },
        {
          "output_type": "display_data",
          "data": {
            "image/png": "[encoded data removed]",
            "text/plain": [
              "<Figure size 432x144 with 1 Axes>"
            ]
          },
          "metadata": {
            "needs_background": "light"
          }
        },
        {
          "output_type": "display_data",
          "data": {
            "image/png": "[encoded data removed]",
            "text/plain": [
              "<Figure size 432x144 with 1 Axes>"
            ]
          },
          "metadata": {
            "needs_background": "light"
          }
        }
      ]
    },
    {
      "cell_type": "code",
      "metadata": {
        "id": "AE8LP72ErRcS",
        "colab": {
          "base_uri": "https://localhost:8080/"
        },
        "outputId": "bec816c9-3a77-46a1-9cb0-05388a1653c5"
      },
      "source": [
        "assert fir_phase_response.shape[0] == iir_phase_response.shape[0] == 10, \\\n",
        "    f\"Bad PR shape. Must be N//2.\"\n",
        "_ideal_fir_pr = np.array([-0.        , -0.15707963, -0.31415927, -0.4712389 , -0.62831853,\n",
        "       -0.78539816, -0.9424778 , -1.09955743, -1.25663706, -1.41371669])\n",
        "assert np.allclose(fir_phase_response, _ideal_fir_pr), \\\n",
        "    f\"Bad fir PR. diff is {np.abs(fir_phase_response - _ideal_fir_pr).sum()}\"\n",
        "_ideal_iir_pr = np.array([-0.        , -0.28649379, -0.45845783, -0.52023287, -0.51233491,\n",
        "       -0.46364761, -0.39071251, -0.30300249, -0.20627323, -0.10433379])\n",
        "assert np.allclose(iir_phase_response, _ideal_iir_pr), \\\n",
        "    f\"Bad iir PR. diff is {np.abs(iir_phase_response - _ideal_iir_pr).sum()}\"\n",
        "\n",
        "print(\"All ok!\")"
      ],
      "execution_count": null,
      "outputs": [
        {
          "output_type": "stream",
          "name": "stdout",
          "text": [
            "All ok!\n"
          ]
        }
      ]
    },
    {
      "cell_type": "code",
      "metadata": {
        "id": "sUly4zIBrRcT"
      },
      "source": [
        ""
      ],
      "execution_count": null,
      "outputs": []
    }
  ]
}